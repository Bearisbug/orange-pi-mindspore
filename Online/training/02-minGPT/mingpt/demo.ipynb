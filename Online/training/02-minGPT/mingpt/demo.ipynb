{
 "cells": [
  {
   "cell_type": "markdown",
   "metadata": {},
   "source": [
    "## 一段小的的演示实例，展示了 minGPT 最基础的使用方法"
   ]
  },
  {
   "cell_type": "code",
   "execution_count": null,
   "metadata": {},
   "outputs": [],
   "source": [
    "# 需要更改环境变量\n",
    "!export MS_DEV_RUNTIME_CONF=all_finite:false"
   ]
  },
  {
   "cell_type": "code",
   "execution_count": null,
   "metadata": {},
   "outputs": [],
   "source": [
    "import mindspore\n",
    "from mindspore import mint, ops\n",
    "from mindspore.dataset import GeneratorDataset\n",
    "import pickle\n",
    "import random\n",
    "import numpy as np\n",
    "from mingpt.utils import set_seed\n",
    "set_seed(3407)"
   ]
  },
  {
   "cell_type": "code",
   "execution_count": null,
   "metadata": {},
   "outputs": [],
   "source": [
    "# 是否开启同步，测试使用\n",
    "mindspore.set_context(pynative_synchronize=True)"
   ]
  },
  {
   "cell_type": "code",
   "execution_count": null,
   "metadata": {},
   "outputs": [],
   "source": [
    "class SortDataset():\n",
    "    \"\"\" \n",
    "    排序问题”的数据集。例如，对于问题长度为 6 的情况：\n",
    "    输入：0 0 2 1 0 1 -> 输出：0 0 0 1 1 2\n",
    "    这将被作为输入传递给transformer，并以以下形式进行拼接：\n",
    "    输入： 0 0 2 1 0 1 0 0 0 1 1\n",
    "    输出：I I I I I 0 0 0 1 1 2\n",
    "    其中 I 表示“掩码”，因为转换器正在读取输入序列。\n",
    "    \"\"\"\n",
    "\n",
    "    def __init__(self, split, length=6, num_digits=3):\n",
    "        assert split in {'train', 'test'}\n",
    "        self.split = split\n",
    "        self.length = length\n",
    "        self.num_digits = num_digits\n",
    "    \n",
    "    def __len__(self):\n",
    "        return 10000\n",
    "    \n",
    "    def get_vocab_size(self):\n",
    "        return self.num_digits\n",
    "    \n",
    "    def get_block_size(self):\n",
    "        # 输入到transformer中的序列的长度，包含连接后的输入和输出，设置为-1，因为transformer是从最后一个输入元素开始进行预测的\n",
    "        return self.length * 2 - 1\n",
    "\n",
    "    def __getitem__(self, idx):\n",
    "        while True:\n",
    "            # 生成随机整数列表\n",
    "            inp_list = [random.randint(0, self.num_digits - 1) for _ in range(self.length)]\n",
    "            # 一半时间内，尝试增加重复数字较多的示例\n",
    "            if random.random() < 0.5:\n",
    "                if len(set(inp_list)) > self.length // 2:\n",
    "                    continue\n",
    "            # 根据 inp_list 的哈希值确定其属于训练集还是测试集\n",
    "            h = hash(pickle.dumps(inp_list))\n",
    "            inp_split = 'test' if h % 4 == 0 else 'train'\n",
    "            if inp_split == self.split:\n",
    "                break\n",
    "\n",
    "        # 对输入序列进行排序\n",
    "        sol_list = sorted(inp_list)\n",
    "        # 拼接输入和输出序列\n",
    "        cat_np = np.concatenate((inp_list, sol_list))\n",
    "        # 生成偏移序列\n",
    "        x_np = cat_np[:-1].copy()\n",
    "        y_np = cat_np[1:].copy()\n",
    "        # 掩蔽输入位置的损失\n",
    "        y_np[:self.length-1] = -1\n",
    "        # 生成 Transformer 的输入 x 和输出 y\n",
    "        x = mindspore.tensor(x_np, dtype=mindspore.int32)\n",
    "        y = mindspore.tensor(y_np, dtype=mindspore.int32)\n",
    "\n",
    "        return x, y"
   ]
  },
  {
   "cell_type": "code",
   "execution_count": null,
   "metadata": {},
   "outputs": [],
   "source": [
    "train_dataset = SortDataset('train')\n",
    "test_dataset = SortDataset('test')\n",
    "\n",
    "x, y = train_dataset[0]\n",
    "print(x.dtype, y.dtype)\n",
    "for a, b in zip(x,y):\n",
    "    print(int(a),int(b))"
   ]
  },
  {
   "cell_type": "code",
   "execution_count": null,
   "metadata": {},
   "outputs": [],
   "source": [
    "# 实例化GPT模型\n",
    "from mingpt.model import GPT\n",
    "\n",
    "model_config = GPT.get_default_config()\n",
    "model_config.model_type = 'gpt-nano'\n",
    "model_config.vocab_size = train_dataset.get_vocab_size()\n",
    "model_config.block_size = train_dataset.get_block_size()\n",
    "model = GPT(model_config)"
   ]
  },
  {
   "cell_type": "code",
   "execution_count": null,
   "metadata": {},
   "outputs": [],
   "source": [
    "# 实例化trainer并开始训练\n",
    "from mingpt.trainer import Trainer\n",
    "\n",
    "train_config = Trainer.get_default_config()\n",
    "train_config.learning_rate = 5e-4\n",
    "train_config.max_iters = 2000\n",
    "train_config.num_workers = 1\n",
    "trainer = Trainer(train_config, model, train_dataset)\n",
    "\n",
    "def batch_end_callback(trainer):\n",
    "    if trainer.iter_num % 100 == 0:\n",
    "        print(f\"iter_dt {trainer.iter_dt * 1000:.2f}ms; iter {trainer.iter_num}: train loss {trainer.loss.item():.5f}\")\n",
    "trainer.set_callback('on_batch_end', batch_end_callback)\n",
    "\n",
    "trainer.run()"
   ]
  },
  {
   "cell_type": "code",
   "execution_count": null,
   "metadata": {},
   "outputs": [],
   "source": [
    "# 开始验证\n",
    "model.set_train(False)\n",
    "\n",
    "def eval_split(split, max_batches):\n",
    "    dataset = {'train':train_dataset, 'test':test_dataset}[split]\n",
    "    n = train_dataset.length\n",
    "    results = []\n",
    "    mistakes_printed_already = 0\n",
    "    loader = GeneratorDataset(dataset, column_names=['x', 'y'], shuffle=False)\n",
    "    loader = loader.batch(100, drop_remainder=False)\n",
    "    for b, (x, y) in enumerate(loader):\n",
    "        inp = x[:, :n]\n",
    "        sol = y[:, -n:]\n",
    "        # 让模型对序列的其余部分进行采样\n",
    "        cat = model.generate(inp, n, do_sample=False) # 采用贪心最大值选择法，而非抽样法\n",
    "        sol_candidate = cat[:, n:] # 分离出已填入的序列\n",
    "        # 将预测的序列与真实序列进行比较\n",
    "        correct = (sol == sol_candidate).all(1)\n",
    "        for i in range(x.shape[0]):\n",
    "            results.append(int(correct[i]))\n",
    "            if not correct[i] and mistakes_printed_already < 3: # 最多只打印出 3 处错误以助于理解\n",
    "                mistakes_printed_already += 1\n",
    "                print(\"GPT claims that %s sorted is %s but gt is %s\" % (inp[i].tolist(), sol_candidate[i].tolist(), sol[i].tolist()))\n",
    "        if max_batches is not None and b+1 >= max_batches:\n",
    "            break\n",
    "    rt = mindspore.tensor(results, dtype=mindspore.float32)\n",
    "    print(\"%s final score: %d/%d = %.2f%% correct\" % (split, rt.sum(), len(results), 100*rt.mean()))\n",
    "\n",
    "    return rt.sum()\n",
    "\n",
    "# 对模型进行大量来自训练集和测试集的数据处理，并验证输出结果的正确性。\n",
    "train_score = eval_split('train', max_batches=50)\n",
    "test_score  = eval_split('test',  max_batches=50)"
   ]
  },
  {
   "cell_type": "code",
   "execution_count": null,
   "metadata": {},
   "outputs": [],
   "source": [
    "# 随机生成一条序列让模型进行推理\n",
    "n = train_dataset.length\n",
    "inp = mindspore.tensor([[0, 0, 2, 1, 0, 1]], dtype=mindspore.int32)\n",
    "assert inp[0].nelement() == n\n",
    "cat = model.generate(inp, n, do_sample=False)\n",
    "sol = ops.sort(inp[0])[0]\n",
    "sol_candidate = cat[:, n:]\n",
    "print('input sequence  :', inp.tolist())\n",
    "print('predicted sorted:', sol_candidate.tolist())\n",
    "print('gt sort         :', sol.tolist())\n",
    "print('matches         :', bool((sol == sol_candidate).all()))"
   ]
  }
 ],
 "metadata": {
  "kernelspec": {
   "display_name": "base",
   "language": "python",
   "name": "python3"
  },
  "language_info": {
   "codemirror_mode": {
    "name": "ipython",
    "version": 3
   },
   "file_extension": ".py",
   "mimetype": "text/x-python",
   "name": "python",
   "nbconvert_exporter": "python",
   "pygments_lexer": "ipython3",
   "version": "3.9.2"
  }
 },
 "nbformat": 4,
 "nbformat_minor": 4
}
